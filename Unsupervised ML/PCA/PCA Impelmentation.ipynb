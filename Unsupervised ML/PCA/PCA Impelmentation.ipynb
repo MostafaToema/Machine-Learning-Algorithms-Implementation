{
 "cells": [
  {
   "cell_type": "markdown",
   "metadata": {},
   "source": [
    "### PCA Impelmentation"
   ]
  },
  {
   "cell_type": "markdown",
   "metadata": {},
   "source": [
    "### Import the required libraries"
   ]
  },
  {
   "cell_type": "code",
   "execution_count": 1,
   "metadata": {},
   "outputs": [],
   "source": [
    "import numpy as np\n",
    "import math\n",
    "import pandas as pd\n",
    "import seaborn as sns\n",
    "import matplotlib.pyplot as plt\n",
    "from plotnine import *"
   ]
  },
  {
   "cell_type": "code",
   "execution_count": 2,
   "metadata": {},
   "outputs": [],
   "source": [
    "df = pd.read_csv('countries_of_the_world_new.csv')\n",
    "\n",
    "# drop unknown columns\n",
    "df =  df.drop('Unnamed: 0', axis = 1)\n",
    "\n",
    "#prepare the data\n",
    "x = df"
   ]
  },
  {
   "cell_type": "code",
   "execution_count": 3,
   "metadata": {},
   "outputs": [
    {
     "data": {
      "text/plain": [
       "(227, 20)"
      ]
     },
     "execution_count": 3,
     "metadata": {},
     "output_type": "execute_result"
    }
   ],
   "source": [
    "df.shape"
   ]
  },
  {
   "cell_type": "code",
   "execution_count": 4,
   "metadata": {},
   "outputs": [
    {
     "data": {
      "text/html": [
       "<div>\n",
       "<style scoped>\n",
       "    .dataframe tbody tr th:only-of-type {\n",
       "        vertical-align: middle;\n",
       "    }\n",
       "\n",
       "    .dataframe tbody tr th {\n",
       "        vertical-align: top;\n",
       "    }\n",
       "\n",
       "    .dataframe thead th {\n",
       "        text-align: right;\n",
       "    }\n",
       "</style>\n",
       "<table border=\"1\" class=\"dataframe\">\n",
       "  <thead>\n",
       "    <tr style=\"text-align: right;\">\n",
       "      <th></th>\n",
       "      <th>Country</th>\n",
       "      <th>Region</th>\n",
       "      <th>Population</th>\n",
       "      <th>Area (sq. mi.)</th>\n",
       "      <th>Pop. Density (per sq. mi.)</th>\n",
       "      <th>Coastline (coast/area ratio)</th>\n",
       "      <th>Net migration</th>\n",
       "      <th>Infant mortality (per 1000 births)</th>\n",
       "      <th>GDP ($ per capita)</th>\n",
       "      <th>Literacy (%)</th>\n",
       "      <th>Phones (per 1000)</th>\n",
       "      <th>Arable (%)</th>\n",
       "      <th>Crops (%)</th>\n",
       "      <th>Other (%)</th>\n",
       "      <th>Climate</th>\n",
       "      <th>Birthrate</th>\n",
       "      <th>Deathrate</th>\n",
       "      <th>Agriculture</th>\n",
       "      <th>Industry</th>\n",
       "      <th>Service</th>\n",
       "    </tr>\n",
       "  </thead>\n",
       "  <tbody>\n",
       "    <tr>\n",
       "      <th>0</th>\n",
       "      <td>0</td>\n",
       "      <td>0</td>\n",
       "      <td>31056997.0</td>\n",
       "      <td>647500.00</td>\n",
       "      <td>48.0</td>\n",
       "      <td>0.0000</td>\n",
       "      <td>23.06</td>\n",
       "      <td>163.07</td>\n",
       "      <td>700.0</td>\n",
       "      <td>36.0</td>\n",
       "      <td>3.2</td>\n",
       "      <td>12.13</td>\n",
       "      <td>0.22</td>\n",
       "      <td>87.65</td>\n",
       "      <td>1.0</td>\n",
       "      <td>46.60</td>\n",
       "      <td>20.34</td>\n",
       "      <td>0.380000</td>\n",
       "      <td>0.240000</td>\n",
       "      <td>0.380000</td>\n",
       "    </tr>\n",
       "    <tr>\n",
       "      <th>1</th>\n",
       "      <td>1</td>\n",
       "      <td>3</td>\n",
       "      <td>3581655.0</td>\n",
       "      <td>28748.00</td>\n",
       "      <td>124.6</td>\n",
       "      <td>1.2600</td>\n",
       "      <td>-4.93</td>\n",
       "      <td>21.52</td>\n",
       "      <td>4500.0</td>\n",
       "      <td>86.5</td>\n",
       "      <td>71.2</td>\n",
       "      <td>21.09</td>\n",
       "      <td>4.42</td>\n",
       "      <td>74.49</td>\n",
       "      <td>3.0</td>\n",
       "      <td>15.11</td>\n",
       "      <td>5.22</td>\n",
       "      <td>0.232000</td>\n",
       "      <td>0.188000</td>\n",
       "      <td>0.579000</td>\n",
       "    </tr>\n",
       "    <tr>\n",
       "      <th>2</th>\n",
       "      <td>2</td>\n",
       "      <td>6</td>\n",
       "      <td>32930091.0</td>\n",
       "      <td>1097556.25</td>\n",
       "      <td>13.8</td>\n",
       "      <td>0.0400</td>\n",
       "      <td>-0.39</td>\n",
       "      <td>31.00</td>\n",
       "      <td>6000.0</td>\n",
       "      <td>70.0</td>\n",
       "      <td>78.1</td>\n",
       "      <td>3.22</td>\n",
       "      <td>0.25</td>\n",
       "      <td>96.53</td>\n",
       "      <td>1.0</td>\n",
       "      <td>17.14</td>\n",
       "      <td>4.61</td>\n",
       "      <td>0.101000</td>\n",
       "      <td>0.600000</td>\n",
       "      <td>0.298000</td>\n",
       "    </tr>\n",
       "    <tr>\n",
       "      <th>3</th>\n",
       "      <td>3</td>\n",
       "      <td>8</td>\n",
       "      <td>57794.0</td>\n",
       "      <td>199.00</td>\n",
       "      <td>290.4</td>\n",
       "      <td>25.7125</td>\n",
       "      <td>-20.71</td>\n",
       "      <td>9.27</td>\n",
       "      <td>8000.0</td>\n",
       "      <td>97.0</td>\n",
       "      <td>259.5</td>\n",
       "      <td>10.00</td>\n",
       "      <td>15.00</td>\n",
       "      <td>75.00</td>\n",
       "      <td>2.0</td>\n",
       "      <td>22.46</td>\n",
       "      <td>3.27</td>\n",
       "      <td>0.150844</td>\n",
       "      <td>0.282711</td>\n",
       "      <td>0.565283</td>\n",
       "    </tr>\n",
       "    <tr>\n",
       "      <th>4</th>\n",
       "      <td>4</td>\n",
       "      <td>10</td>\n",
       "      <td>71201.0</td>\n",
       "      <td>468.00</td>\n",
       "      <td>152.1</td>\n",
       "      <td>0.0000</td>\n",
       "      <td>6.60</td>\n",
       "      <td>4.05</td>\n",
       "      <td>19000.0</td>\n",
       "      <td>100.0</td>\n",
       "      <td>497.2</td>\n",
       "      <td>2.22</td>\n",
       "      <td>0.00</td>\n",
       "      <td>97.78</td>\n",
       "      <td>3.0</td>\n",
       "      <td>8.71</td>\n",
       "      <td>6.25</td>\n",
       "      <td>0.150844</td>\n",
       "      <td>0.282711</td>\n",
       "      <td>0.565283</td>\n",
       "    </tr>\n",
       "  </tbody>\n",
       "</table>\n",
       "</div>"
      ],
      "text/plain": [
       "   Country  Region  Population  Area (sq. mi.)  Pop. Density (per sq. mi.)  \\\n",
       "0        0       0  31056997.0       647500.00                        48.0   \n",
       "1        1       3   3581655.0        28748.00                       124.6   \n",
       "2        2       6  32930091.0      1097556.25                        13.8   \n",
       "3        3       8     57794.0          199.00                       290.4   \n",
       "4        4      10     71201.0          468.00                       152.1   \n",
       "\n",
       "   Coastline (coast/area ratio)  Net migration  \\\n",
       "0                        0.0000          23.06   \n",
       "1                        1.2600          -4.93   \n",
       "2                        0.0400          -0.39   \n",
       "3                       25.7125         -20.71   \n",
       "4                        0.0000           6.60   \n",
       "\n",
       "   Infant mortality (per 1000 births)  GDP ($ per capita)  Literacy (%)  \\\n",
       "0                              163.07               700.0          36.0   \n",
       "1                               21.52              4500.0          86.5   \n",
       "2                               31.00              6000.0          70.0   \n",
       "3                                9.27              8000.0          97.0   \n",
       "4                                4.05             19000.0         100.0   \n",
       "\n",
       "   Phones (per 1000)  Arable (%)  Crops (%)  Other (%)  Climate  Birthrate  \\\n",
       "0                3.2       12.13       0.22      87.65      1.0      46.60   \n",
       "1               71.2       21.09       4.42      74.49      3.0      15.11   \n",
       "2               78.1        3.22       0.25      96.53      1.0      17.14   \n",
       "3              259.5       10.00      15.00      75.00      2.0      22.46   \n",
       "4              497.2        2.22       0.00      97.78      3.0       8.71   \n",
       "\n",
       "   Deathrate  Agriculture  Industry   Service  \n",
       "0      20.34     0.380000  0.240000  0.380000  \n",
       "1       5.22     0.232000  0.188000  0.579000  \n",
       "2       4.61     0.101000  0.600000  0.298000  \n",
       "3       3.27     0.150844  0.282711  0.565283  \n",
       "4       6.25     0.150844  0.282711  0.565283  "
      ]
     },
     "execution_count": 4,
     "metadata": {},
     "output_type": "execute_result"
    }
   ],
   "source": [
    "df.head()"
   ]
  },
  {
   "cell_type": "markdown",
   "metadata": {},
   "source": [
    "## Step 1: Standardize the dataset."
   ]
  },
  {
   "cell_type": "markdown",
   "metadata": {},
   "source": [
    "### Define a function to calculate data mean and STD for one feature.\n"
   ]
  },
  {
   "cell_type": "code",
   "execution_count": 5,
   "metadata": {},
   "outputs": [],
   "source": [
    "def calculateMean(vector):\n",
    "    return np.sum(vector)/vector.shape[0]"
   ]
  },
  {
   "cell_type": "code",
   "execution_count": 6,
   "metadata": {},
   "outputs": [],
   "source": [
    "def calculateStd(vector):\n",
    "    s = np.sum((vector - calculateMean(vector))**2)    \n",
    "    return math.sqrt(s / (vector.shape[0] - 1))"
   ]
  },
  {
   "cell_type": "markdown",
   "metadata": {},
   "source": [
    "### Define a function to standardize the dataset."
   ]
  },
  {
   "cell_type": "code",
   "execution_count": 7,
   "metadata": {},
   "outputs": [],
   "source": [
    "def standarization(matrix):\n",
    "    std_mat = np.array([])\n",
    "    for i in range(matrix.shape[1]):\n",
    "        std_mat = np.append(std_mat, ((matrix[:,i] - calculateMean(matrix[:,i])) / calculateStd(matrix[:,i])))\n",
    "    final_mat = std_mat.reshape(matrix.shape[1], matrix.shape[0]).T\n",
    "    return final_mat"
   ]
  },
  {
   "cell_type": "markdown",
   "metadata": {},
   "source": [
    "## Step 2: Calculate the covariance matrix for the features in the dataset."
   ]
  },
  {
   "cell_type": "code",
   "execution_count": 8,
   "metadata": {},
   "outputs": [],
   "source": [
    "def covariance(matrix):\n",
    "    return (matrix.T@matrix)/(matrix.shape[0])"
   ]
  },
  {
   "cell_type": "code",
   "execution_count": 9,
   "metadata": {},
   "outputs": [],
   "source": [
    "def PCA(data):\n",
    "    eigenvalues, eigenvectors = np.linalg.eig(covariance(standarization(data)))\n",
    "\n",
    "    explained_variance_ratio_ = eigenvalues / np.sum(eigenvalues)\n",
    "    pcaDF = pd.DataFrame({\"pc\": range(1,(x.shape[1] + 1)),\"expl_var\" : explained_variance_ratio_,  \"cum_var\": explained_variance_ratio_.cumsum()})\n",
    "\n",
    "    return pcaDF, eigenvectors"
   ]
  },
  {
   "cell_type": "code",
   "execution_count": 10,
   "metadata": {},
   "outputs": [
    {
     "data": {
      "text/html": [
       "<div>\n",
       "<style scoped>\n",
       "    .dataframe tbody tr th:only-of-type {\n",
       "        vertical-align: middle;\n",
       "    }\n",
       "\n",
       "    .dataframe tbody tr th {\n",
       "        vertical-align: top;\n",
       "    }\n",
       "\n",
       "    .dataframe thead th {\n",
       "        text-align: right;\n",
       "    }\n",
       "</style>\n",
       "<table border=\"1\" class=\"dataframe\">\n",
       "  <thead>\n",
       "    <tr style=\"text-align: right;\">\n",
       "      <th></th>\n",
       "      <th>pc</th>\n",
       "      <th>expl_var</th>\n",
       "      <th>cum_var</th>\n",
       "    </tr>\n",
       "  </thead>\n",
       "  <tbody>\n",
       "    <tr>\n",
       "      <th>0</th>\n",
       "      <td>1</td>\n",
       "      <td>0.292044</td>\n",
       "      <td>0.292044</td>\n",
       "    </tr>\n",
       "    <tr>\n",
       "      <th>1</th>\n",
       "      <td>2</td>\n",
       "      <td>0.133514</td>\n",
       "      <td>0.425558</td>\n",
       "    </tr>\n",
       "    <tr>\n",
       "      <th>2</th>\n",
       "      <td>3</td>\n",
       "      <td>0.112711</td>\n",
       "      <td>0.538269</td>\n",
       "    </tr>\n",
       "    <tr>\n",
       "      <th>3</th>\n",
       "      <td>4</td>\n",
       "      <td>0.086081</td>\n",
       "      <td>0.624351</td>\n",
       "    </tr>\n",
       "    <tr>\n",
       "      <th>4</th>\n",
       "      <td>5</td>\n",
       "      <td>0.061149</td>\n",
       "      <td>0.685499</td>\n",
       "    </tr>\n",
       "  </tbody>\n",
       "</table>\n",
       "</div>"
      ],
      "text/plain": [
       "   pc  expl_var   cum_var\n",
       "0   1  0.292044  0.292044\n",
       "1   2  0.133514  0.425558\n",
       "2   3  0.112711  0.538269\n",
       "3   4  0.086081  0.624351\n",
       "4   5  0.061149  0.685499"
      ]
     },
     "execution_count": 10,
     "metadata": {},
     "output_type": "execute_result"
    }
   ],
   "source": [
    "pcaDF, eigenvectors = PCA(x.values)\n",
    "pcaDF.head()"
   ]
  },
  {
   "cell_type": "code",
   "execution_count": 11,
   "metadata": {},
   "outputs": [
    {
     "data": {
      "image/png": "[encoded data removed]",
      "text/plain": [
       "<Figure size 640x480 with 1 Axes>"
      ]
     },
     "metadata": {},
     "output_type": "display_data"
    },
    {
     "data": {
      "text/plain": [
       "<ggplot: (8745963187526)>"
      ]
     },
     "execution_count": 11,
     "metadata": {},
     "output_type": "execute_result"
    }
   ],
   "source": [
    "(ggplot(pcaDF, aes(x = \"pc\", y = \"expl_var\")) + geom_line() + geom_point())"
   ]
  },
  {
   "cell_type": "code",
   "execution_count": 12,
   "metadata": {},
   "outputs": [
    {
     "data": {
      "image/png": "[encoded data removed]",
      "text/plain": [
       "<Figure size 640x480 with 1 Axes>"
      ]
     },
     "metadata": {},
     "output_type": "display_data"
    },
    {
     "data": {
      "text/plain": [
       "<ggplot: (8745898455833)>"
      ]
     },
     "execution_count": 12,
     "metadata": {},
     "output_type": "execute_result"
    }
   ],
   "source": [
    "(ggplot(pcaDF, aes(x = \"pc\", y = \"cum_var\")) + geom_line(color = \"red\") +\n",
    " geom_point(color = \"pink\") + geom_hline(yintercept = 0.95))"
   ]
  },
  {
   "cell_type": "code",
   "execution_count": 13,
   "metadata": {
    "tags": []
   },
   "outputs": [
    {
     "data": {
      "text/plain": [
       "Text(0.5, 1.0, 'Cumulative variance vs. no.of components')"
      ]
     },
     "execution_count": 13,
     "metadata": {},
     "output_type": "execute_result"
    },
    {
     "data": {
      "image/png": "[encoded data removed]",
      "text/plain": [
       "<Figure size 720x432 with 1 Axes>"
      ]
     },
     "metadata": {
      "needs_background": "light"
     },
     "output_type": "display_data"
    }
   ],
   "source": [
    "plt.figure(figsize = (10,6))\n",
    "sns.barplot(data = pcaDF, x = 'pc', y = 'cum_var')\n",
    "plt.title('Cumulative variance vs. no.of components')"
   ]
  },
  {
   "cell_type": "code",
   "execution_count": 14,
   "metadata": {},
   "outputs": [],
   "source": [
    "data = x.values\n",
    "n_components = 12"
   ]
  },
  {
   "cell_type": "code",
   "execution_count": 15,
   "metadata": {},
   "outputs": [],
   "source": [
    "eigenvectors_reduced = eigenvectors[:, :n_components]\n",
    "Mat_reduced = standarization(data) @ eigenvectors_reduced\n",
    "reducedDF = pd.DataFrame(Mat_reduced)"
   ]
  },
  {
   "cell_type": "code",
   "execution_count": 16,
   "metadata": {},
   "outputs": [
    {
     "data": {
      "text/html": [
       "<div>\n",
       "<style scoped>\n",
       "    .dataframe tbody tr th:only-of-type {\n",
       "        vertical-align: middle;\n",
       "    }\n",
       "\n",
       "    .dataframe tbody tr th {\n",
       "        vertical-align: top;\n",
       "    }\n",
       "\n",
       "    .dataframe thead th {\n",
       "        text-align: right;\n",
       "    }\n",
       "</style>\n",
       "<table border=\"1\" class=\"dataframe\">\n",
       "  <thead>\n",
       "    <tr style=\"text-align: right;\">\n",
       "      <th></th>\n",
       "      <th>0</th>\n",
       "      <th>1</th>\n",
       "      <th>2</th>\n",
       "      <th>3</th>\n",
       "      <th>4</th>\n",
       "      <th>5</th>\n",
       "      <th>6</th>\n",
       "      <th>7</th>\n",
       "      <th>8</th>\n",
       "      <th>9</th>\n",
       "      <th>10</th>\n",
       "      <th>11</th>\n",
       "    </tr>\n",
       "  </thead>\n",
       "  <tbody>\n",
       "    <tr>\n",
       "      <th>0</th>\n",
       "      <td>-5.463514</td>\n",
       "      <td>1.271603</td>\n",
       "      <td>-0.571121</td>\n",
       "      <td>-2.484409</td>\n",
       "      <td>-3.077531</td>\n",
       "      <td>-0.040741</td>\n",
       "      <td>-3.385078</td>\n",
       "      <td>-0.222711</td>\n",
       "      <td>1.603560</td>\n",
       "      <td>-0.629349</td>\n",
       "      <td>0.043310</td>\n",
       "      <td>2.671238</td>\n",
       "    </tr>\n",
       "    <tr>\n",
       "      <th>1</th>\n",
       "      <td>0.457703</td>\n",
       "      <td>-1.227867</td>\n",
       "      <td>0.681466</td>\n",
       "      <td>0.190540</td>\n",
       "      <td>-0.045150</td>\n",
       "      <td>-2.649238</td>\n",
       "      <td>0.061214</td>\n",
       "      <td>0.575096</td>\n",
       "      <td>0.346111</td>\n",
       "      <td>0.607009</td>\n",
       "      <td>-0.169074</td>\n",
       "      <td>-0.600260</td>\n",
       "    </tr>\n",
       "    <tr>\n",
       "      <th>2</th>\n",
       "      <td>-2.044526</td>\n",
       "      <td>2.737342</td>\n",
       "      <td>1.374500</td>\n",
       "      <td>1.945873</td>\n",
       "      <td>-0.346965</td>\n",
       "      <td>-0.396031</td>\n",
       "      <td>-0.509722</td>\n",
       "      <td>-2.429320</td>\n",
       "      <td>0.443964</td>\n",
       "      <td>0.487395</td>\n",
       "      <td>0.552176</td>\n",
       "      <td>-0.711692</td>\n",
       "    </tr>\n",
       "    <tr>\n",
       "      <th>3</th>\n",
       "      <td>1.369194</td>\n",
       "      <td>-2.609735</td>\n",
       "      <td>-0.996838</td>\n",
       "      <td>2.227927</td>\n",
       "      <td>0.787986</td>\n",
       "      <td>-1.781308</td>\n",
       "      <td>1.364580</td>\n",
       "      <td>-2.146773</td>\n",
       "      <td>-1.859324</td>\n",
       "      <td>0.795198</td>\n",
       "      <td>0.721805</td>\n",
       "      <td>-1.381266</td>\n",
       "    </tr>\n",
       "    <tr>\n",
       "      <th>4</th>\n",
       "      <td>2.089586</td>\n",
       "      <td>1.726657</td>\n",
       "      <td>-0.984921</td>\n",
       "      <td>-1.108057</td>\n",
       "      <td>0.908780</td>\n",
       "      <td>-1.278246</td>\n",
       "      <td>-0.510063</td>\n",
       "      <td>-0.142555</td>\n",
       "      <td>1.147524</td>\n",
       "      <td>1.478083</td>\n",
       "      <td>0.137764</td>\n",
       "      <td>-0.321784</td>\n",
       "    </tr>\n",
       "  </tbody>\n",
       "</table>\n",
       "</div>"
      ],
      "text/plain": [
       "         0         1         2         3         4         5         6   \\\n",
       "0 -5.463514  1.271603 -0.571121 -2.484409 -3.077531 -0.040741 -3.385078   \n",
       "1  0.457703 -1.227867  0.681466  0.190540 -0.045150 -2.649238  0.061214   \n",
       "2 -2.044526  2.737342  1.374500  1.945873 -0.346965 -0.396031 -0.509722   \n",
       "3  1.369194 -2.609735 -0.996838  2.227927  0.787986 -1.781308  1.364580   \n",
       "4  2.089586  1.726657 -0.984921 -1.108057  0.908780 -1.278246 -0.510063   \n",
       "\n",
       "         7         8         9         10        11  \n",
       "0 -0.222711  1.603560 -0.629349  0.043310  2.671238  \n",
       "1  0.575096  0.346111  0.607009 -0.169074 -0.600260  \n",
       "2 -2.429320  0.443964  0.487395  0.552176 -0.711692  \n",
       "3 -2.146773 -1.859324  0.795198  0.721805 -1.381266  \n",
       "4 -0.142555  1.147524  1.478083  0.137764 -0.321784  "
      ]
     },
     "execution_count": 16,
     "metadata": {},
     "output_type": "execute_result"
    }
   ],
   "source": [
    "reducedDF.head()"
   ]
  },
  {
   "cell_type": "code",
   "execution_count": 17,
   "metadata": {},
   "outputs": [
    {
     "data": {
      "text/plain": [
       "(227, 12)"
      ]
     },
     "execution_count": 17,
     "metadata": {},
     "output_type": "execute_result"
    }
   ],
   "source": [
    "reducedDF.shape"
   ]
  },
  {
   "cell_type": "code",
   "execution_count": 18,
   "metadata": {},
   "outputs": [],
   "source": [
    "reducedDF.to_csv('countries_of_the_world_after_PCA.csv')"
   ]
  }
 ],
 "metadata": {
  "kernelspec": {
   "display_name": "Python 3 (ipykernel)",
   "language": "python",
   "name": "python3"
  },
  "language_info": {
   "codemirror_mode": {
    "name": "ipython",
    "version": 3
   },
   "file_extension": ".py",
   "mimetype": "text/x-python",
   "name": "python",
   "nbconvert_exporter": "python",
   "pygments_lexer": "ipython3",
   "version": "3.8.10"
  }
 },
 "nbformat": 4,
 "nbformat_minor": 4
}
